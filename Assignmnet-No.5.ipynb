{
 "cells": [
  {
   "cell_type": "markdown",
   "metadata": {},
   "source": [
    "# Answer 1"
   ]
  },
  {
   "cell_type": "code",
   "execution_count": 31,
   "metadata": {},
   "outputs": [
    {
     "name": "stdout",
     "output_type": "stream",
     "text": [
      "Enter Non-Negative Interger : 5\n",
      "5 x 4 x 3 x 2 x 1 = 120\n"
     ]
    }
   ],
   "source": [
    "n=-1\n",
    "ans=1\n",
    "while n<0: n=int(input(\"Enter Non-Negative Interger : \"))\n",
    "for i in reversed(range(1,n+1)):\n",
    "    ans=ans*i\n",
    "    print(i,end=\"\")\n",
    "    if i>1 : print(\" x \",end=\"\")\n",
    "print(\" =\",ans)"
   ]
  },
  {
   "cell_type": "markdown",
   "metadata": {},
   "source": [
    "# Answer 2"
   ]
  },
  {
   "cell_type": "code",
   "execution_count": 25,
   "metadata": {},
   "outputs": [
    {
     "name": "stdout",
     "output_type": "stream",
     "text": [
      "Enter String :Hello WOrld\n",
      "Total UpperCase Lettlers :  3 \n",
      "Total LowerCase Letters  :  8\n"
     ]
    }
   ],
   "source": [
    "u=0\n",
    "l=0\n",
    "for i in input(\"Enter String :\"):\n",
    "    if i.isupper(): u=u+1\n",
    "    else: l=l+1\n",
    "print(\"Total UpperCase Lettlers : \",u,\"\\nTotal LowerCase Letters  : \",l)\n"
   ]
  },
  {
   "cell_type": "markdown",
   "metadata": {},
   "source": [
    "# Answer 3"
   ]
  },
  {
   "cell_type": "code",
   "execution_count": 26,
   "metadata": {},
   "outputs": [
    {
     "name": "stdout",
     "output_type": "stream",
     "text": [
      "[1, 2, 3, 8, 16, 5, 9, 10, 11, 13, 17, 18] \n",
      "Even Numbers in Above List:\n",
      "2\n",
      "8\n",
      "16\n",
      "10\n",
      "18\n"
     ]
    }
   ],
   "source": [
    "nums=[1,2,3,8,16,5,9,10,11,13,17,18]\n",
    "print(nums,\"\\nEven Numbers in Above List:\")\n",
    "for i in nums:\n",
    "    if i%2==0:\n",
    "        print(i)"
   ]
  },
  {
   "cell_type": "markdown",
   "metadata": {},
   "source": [
    "# Answer 4"
   ]
  },
  {
   "cell_type": "code",
   "execution_count": 2,
   "metadata": {},
   "outputs": [
    {
     "name": "stdout",
     "output_type": "stream",
     "text": [
      "Enter a String : hello\n",
      "This is not a Palindrome\n",
      "Enter a String : wow\n",
      "This is Palindrome\n",
      "Enter a String : bye\n",
      "This is not a Palindrome\n",
      "Enter a String : did\n",
      "This is Palindrome\n",
      "Enter a String : done\n",
      "This is not a Palindrome\n"
     ]
    }
   ],
   "source": [
    "word=\"\"\n",
    "while word!=\"done\":\n",
    "    word=input(\"Enter a String : \")\n",
    "    rw=word[::-1]\n",
    "    if word==rw: print(\"This is Palindrome\")\n",
    "    else: print(\"This is not a Palindrome\")"
   ]
  },
  {
   "cell_type": "markdown",
   "metadata": {},
   "source": [
    "# Answer 5"
   ]
  },
  {
   "cell_type": "code",
   "execution_count": 3,
   "metadata": {},
   "outputs": [
    {
     "name": "stdout",
     "output_type": "stream",
     "text": [
      "Enter Any Number : 5\n",
      "The Number is Prime\n",
      "Enter Any Number : 3\n",
      "The Number is Prime\n",
      "Enter Any Number : 4\n",
      "This Number is not Prime\n",
      "Enter Any Number : 6\n",
      "This Number is not Prime\n",
      "Enter Any Number : 11\n",
      "The Number is Prime\n",
      "Enter Any Number : 0\n"
     ]
    }
   ],
   "source": [
    "prime=-1\n",
    "while prime!=0:\n",
    "    b=0\n",
    "    prime=int(input(\"Enter Any Number : \"))\n",
    "    for i in range(1,prime+1):\n",
    "        for j in range(1,i+1):\n",
    "            if i*j==prime and i!=prime:\n",
    "                print(\"This Number is not Prime\")\n",
    "                b=1\n",
    "                break\n",
    "            elif i*j==prime and i==prime:\n",
    "                print(\"The Number is Prime\")\n",
    "                b=1\n",
    "                break\n",
    "        if b==1: break"
   ]
  },
  {
   "cell_type": "markdown",
   "metadata": {},
   "source": [
    "# Answer 6"
   ]
  },
  {
   "cell_type": "code",
   "execution_count": 7,
   "metadata": {},
   "outputs": [
    {
     "name": "stdout",
     "output_type": "stream",
     "text": [
      "Shop List : \n",
      "Apple\n",
      "Banana\n",
      "Shirt\n",
      "Pen\n"
     ]
    }
   ],
   "source": [
    "def shopList(*items):\n",
    "    print(\"Shop List : \")\n",
    "    for item in items:\n",
    "        print(item)\n",
    "\n",
    "shopList(\"Apple\",\"Banana\",\"Shirt\",\"Pen\")\n",
    "    "
   ]
  },
  {
   "cell_type": "code",
   "execution_count": null,
   "metadata": {},
   "outputs": [],
   "source": []
  }
 ],
 "metadata": {
  "kernelspec": {
   "display_name": "Python 3",
   "language": "python",
   "name": "python3"
  },
  "language_info": {
   "codemirror_mode": {
    "name": "ipython",
    "version": 3
   },
   "file_extension": ".py",
   "mimetype": "text/x-python",
   "name": "python",
   "nbconvert_exporter": "python",
   "pygments_lexer": "ipython3",
   "version": "3.7.3"
  }
 },
 "nbformat": 4,
 "nbformat_minor": 2
}
