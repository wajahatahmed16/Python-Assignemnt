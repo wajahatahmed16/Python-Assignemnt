{
 "cells": [
  {
   "cell_type": "code",
   "execution_count": 8,
   "metadata": {},
   "outputs": [
    {
     "name": "stdout",
     "output_type": "stream",
     "text": [
      "Math : 95.90\n",
      "Chemistry : 80\n",
      "Physics : 86\n",
      "Urdu : 78\n",
      "English : 79\n",
      "Percentage :  83.78 %\n",
      "Grade : A+\n"
     ]
    }
   ],
   "source": [
    "maths=float(input(\"Math : \"))\n",
    "chem=float(input(\"Chemistry : \"))\n",
    "phy=float(input(\"Physics : \"))\n",
    "urdu=float(input(\"Urdu : \"))\n",
    "eng=float(input(\"English : \"))\n",
    "total=maths+chem+phy+urdu+eng\n",
    "per=float(total/500*100)\n",
    "if(per>=80): print(\"Percentage : \",per,\"%\\nGrade : A+\")\n",
    "elif(per>=70): print(\"Percentage : \",per,\"%\\nGrade : A\")\n",
    "elif(per>=60): print(\"Percentage : \",per,\"%\\nGrade : B\")\n",
    "elif(per>=50): print(\"Percentage : \",per,\"%\\nGrade : C\")\n",
    "elif(per>=40): print(\"Percentage : \",per,\"%\\nGrade : D\")\n",
    "else: print(\"Percentage : \",per,\"%\\nGrade : Failed\")"
   ]
  },
  {
   "cell_type": "code",
   "execution_count": 4,
   "metadata": {},
   "outputs": [
    {
     "name": "stdout",
     "output_type": "stream",
     "text": [
      "enter any number : 10\n",
      "Number is Even\n"
     ]
    }
   ],
   "source": [
    "if(int(input(\"enter any number : \")) % 2 != 0): \n",
    "    print(\"Number is Odd\")\n",
    "else: \n",
    "    print(\"Number is Even\")"
   ]
  },
  {
   "cell_type": "code",
   "execution_count": 5,
   "metadata": {},
   "outputs": [
    {
     "name": "stdout",
     "output_type": "stream",
     "text": [
      "7\n"
     ]
    }
   ],
   "source": [
    "MyList=(1,3,4,5,6,7,8)\n",
    "print(len(MyList))"
   ]
  },
  {
   "cell_type": "code",
   "execution_count": 6,
   "metadata": {},
   "outputs": [
    {
     "name": "stdout",
     "output_type": "stream",
     "text": [
      "37\n"
     ]
    }
   ],
   "source": [
    "MyList=(1,3,5,7,6,7,8)\n",
    "print(sum(MyList))"
   ]
  },
  {
   "cell_type": "code",
   "execution_count": 7,
   "metadata": {},
   "outputs": [
    {
     "name": "stdout",
     "output_type": "stream",
     "text": [
      "8\n"
     ]
    }
   ],
   "source": [
    "MyList=(1,3,5,7,6,7,8)\n",
    "print(max(MyList))"
   ]
  },
  {
   "cell_type": "code",
   "execution_count": 24,
   "metadata": {},
   "outputs": [
    {
     "name": "stdout",
     "output_type": "stream",
     "text": [
      "1\n",
      "1\n",
      "2\n",
      "3\n"
     ]
    }
   ],
   "source": [
    "a = [1, 1, 2, 3, 5, 8, 13, 21, 34, 55, 89]\n",
    "for i in a:\n",
    "    if(i<5):\n",
    "        print(i)\n"
   ]
  }
 ],
 "metadata": {
  "kernelspec": {
   "display_name": "Python 3",
   "language": "python",
   "name": "python3"
  },
  "language_info": {
   "codemirror_mode": {
    "name": "ipython",
    "version": 3
   },
   "file_extension": ".py",
   "mimetype": "text/x-python",
   "name": "python",
   "nbconvert_exporter": "python",
   "pygments_lexer": "ipython3",
   "version": "3.7.3"
  }
 },
 "nbformat": 4,
 "nbformat_minor": 2
}
