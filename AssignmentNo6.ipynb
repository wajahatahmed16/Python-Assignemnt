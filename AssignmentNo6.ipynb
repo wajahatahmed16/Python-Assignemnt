{
 "cells": [
  {
   "cell_type": "markdown",
   "metadata": {},
   "source": [
    "# Question No.1"
   ]
  },
  {
   "cell_type": "markdown",
   "metadata": {},
   "source": [
    "<h4>Object Oriented Programming Language:</h4>\n",
    "<p>The Programming Language in which objects are used is called OOP.It tends to include real world entities like inheritance, hiding, polymorphism in programming language.</p>"
   ]
  },
  {
   "cell_type": "markdown",
   "metadata": {},
   "source": [
    "# Question No.2"
   ]
  },
  {
   "cell_type": "markdown",
   "metadata": {},
   "source": [
    "<h4>Benefits of OOP:</h4>\n",
    "    <ol>\n",
    "        <li>The object which are defined in the form of classes can be reused without any additional programming.</li>\n",
    "        <li>It helps us to maintain the application easily.</li>\n",
    "        <li>It provide clear modular stucture for programs</li>\n",
    "    <li>Real life  implementaion of objects.</li>\n",
    "    <li>Each object has its own properties</li>\n",
    "    </ol>"
   ]
  },
  {
   "cell_type": "markdown",
   "metadata": {},
   "source": [
    "# Question No.3"
   ]
  },
  {
   "cell_type": "markdown",
   "metadata": {},
   "source": [
    "<h4>Differentiate</h4>\n",
    "<table>\n",
    "    <tr><th>Function</th><th>Method</th></tr>\n",
    "    <tr>\n",
    "        <td>It is a block of code which can be called by its name.</td>\n",
    "        <td>It is a block of code associated with the object.</td>\n",
    "    </tr>\n",
    "    <tr>\n",
    "        <td>All data that is passed to a function is explicitly passed.</td>\n",
    "        <td>A method is implicitly passed the object on which it was called.</td>\n",
    "    </tr>\n",
    "    <tr>\n",
    "        <td>It can return values.</td>\n",
    "        <td>It can return values</td>\n",
    "    </tr>\n",
    "</table>"
   ]
  },
  {
   "cell_type": "markdown",
   "metadata": {},
   "source": [
    "# Question No.4"
   ]
  },
  {
   "cell_type": "markdown",
   "metadata": {},
   "source": [
    "<h4>Class:</h4>\n",
    "<p>Class is the structure, template, blueprint or defination of object. It is the layout for properties and behaviour of object</p>\n",
    "<h4>Object:</h4>\n",
    "<p>Object are the basic concept of obejct oriented programming which we think of before starting to program. They are the instance of a class.</p>\n",
    "<h4>Attribute:</h4>\n",
    "<p>Attribute are basically the properties of an object.example: person has an attribute of name, address, age, gender and lastname etc.</p>\n",
    "<h4>Behaviour:</h4>\n",
    "<p>Behaviour is how the object should react or perform certain fucntion when created or when methods are called upon.</p>"
   ]
  },
  {
   "cell_type": "markdown",
   "metadata": {},
   "source": [
    "# Question No.5"
   ]
  },
  {
   "cell_type": "code",
   "execution_count": 8,
   "metadata": {},
   "outputs": [],
   "source": [
    "# Write a code in python in which create a class named it Car which\n",
    "# have 5 attributes such like (model, color and name etc.) and 3\n",
    "# methods. And create 5 object instance from that class.\n",
    "\n",
    "class Car:\n",
    "    def __init__(self, name, model, color=\"white\"):\n",
    "        self.name = name\n",
    "        self.model = model\n",
    "        self.color= color\n",
    "    \n",
    "    def setName(self,name):\n",
    "        self.name=name\n",
    "    def setModel(self,model):\n",
    "        self.model=model\n",
    "    def setColor(self,color):\n",
    "        self.color=color\n",
    "    \n",
    "\n",
    "car1=Car(\"Toyota Corolla Altis Grande 1.8\",\"Corolla Altis\",\"Silver\")\n",
    "car2=Car(\"BMW X1 Series x1\",\"X1\",\"Black\")\n",
    "car3=Car(\"Honda Accord\",\"Accord 2020\")\n",
    "car4=Car(\"Suzuki Alto\",\"2019\")\n",
    "car5=Car(\"Suzuki Cultus\",\"2019\",\"Silver\")"
   ]
  },
  {
   "cell_type": "code",
   "execution_count": 9,
   "metadata": {},
   "outputs": [
    {
     "name": "stdout",
     "output_type": "stream",
     "text": [
      "NAME :  Toyota Corolla Altis Grande 1.8 \n",
      "Model: Corolla Altis \n",
      "Color: Silver\n"
     ]
    }
   ],
   "source": [
    "print(\"NAME : \",car1.name,\"\\nModel:\",car1.model,\"\\nColor:\",car1.color)"
   ]
  },
  {
   "cell_type": "code",
   "execution_count": 10,
   "metadata": {},
   "outputs": [
    {
     "name": "stdout",
     "output_type": "stream",
     "text": [
      "Color :  Black\n"
     ]
    }
   ],
   "source": [
    "car1.setColor(\"Black\")\n",
    "print(\"Color : \",car1.color)"
   ]
  },
  {
   "cell_type": "code",
   "execution_count": 11,
   "metadata": {},
   "outputs": [
    {
     "data": {
      "text/plain": [
       "'white'"
      ]
     },
     "execution_count": 11,
     "metadata": {},
     "output_type": "execute_result"
    }
   ],
   "source": [
    "car4.color"
   ]
  },
  {
   "cell_type": "code",
   "execution_count": null,
   "metadata": {},
   "outputs": [],
   "source": []
  }
 ],
 "metadata": {
  "kernelspec": {
   "display_name": "Python 3",
   "language": "python",
   "name": "python3"
  },
  "language_info": {
   "codemirror_mode": {
    "name": "ipython",
    "version": 3
   },
   "file_extension": ".py",
   "mimetype": "text/x-python",
   "name": "python",
   "nbconvert_exporter": "python",
   "pygments_lexer": "ipython3",
   "version": "3.7.3"
  }
 },
 "nbformat": 4,
 "nbformat_minor": 2
}
