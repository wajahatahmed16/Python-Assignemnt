{
 "cells": [
  {
   "cell_type": "markdown",
   "metadata": {
    "colab_type": "text",
    "id": "LmQUjjp8YTCJ"
   },
   "source": [
    "# Question 1"
   ]
  },
  {
   "cell_type": "code",
   "execution_count": 5,
   "metadata": {
    "colab": {
     "base_uri": "https://localhost:8080/",
     "height": 85
    },
    "colab_type": "code",
    "id": "Gv_HQXd2VrQl",
    "outputId": "0d95d0b7-d394-4dfc-a3e7-b02b5926604e"
   },
   "outputs": [
    {
     "name": "stdout",
     "output_type": "stream",
     "text": [
      "Number 1 :5\n",
      "Operator : ^\n",
      "Number 2 :2\n",
      "5.0   ^   2.0  =  25.0\n"
     ]
    }
   ],
   "source": [
    "num1=float(input(\"Number 1 :\"))\n",
    "op=input(\"Operator : \")\n",
    "num2=float(input(\"Number 2 :\"))\n",
    "ans=0\n",
    "if(op=='+'):\n",
    "    ans=num1+num2  \n",
    "elif(op=='-'):\n",
    "    ans=num1-num2  \n",
    "elif(op=='*'):\n",
    "    ans=num1*num2  \n",
    "elif(op=='/'):\n",
    "    ans=num1/num2  \n",
    "elif(op=='^'):\n",
    "    ans=num1**num2  \n",
    "else:\n",
    "    print(\"you enter wrong operator\")\n",
    "\n",
    "print(num1,\" \",op,\" \",num2,\" = \",ans)"
   ]
  },
  {
   "cell_type": "code",
   "execution_count": null,
   "metadata": {},
   "outputs": [],
   "source": []
  },
  {
   "cell_type": "markdown",
   "metadata": {
    "colab_type": "text",
    "id": "3mgjvMx8fAd3"
   },
   "source": [
    "# Question 2"
   ]
  },
  {
   "cell_type": "code",
   "execution_count": 6,
   "metadata": {
    "colab": {
     "base_uri": "https://localhost:8080/",
     "height": 68
    },
    "colab_type": "code",
    "id": "4ANOTLmPYkV9",
    "outputId": "9f053f1d-9212-453c-ad3a-f4f62412a810"
   },
   "outputs": [
    {
     "name": "stdout",
     "output_type": "stream",
     "text": [
      "Numeric Values : \n",
      "3\n",
      "30\n",
      "03\n"
     ]
    }
   ],
   "source": [
    "testList=(\"This\",\"is\",\"Assignment\",\"No\",\"3\",\"That\",\"is\",\"three\",\"not\",\"30\",\"its\",\"03\")\n",
    "print(\"Numeric Values : \")\n",
    "for x in testList:\n",
    "  if(x.isnumeric()):\n",
    "    print(x)\n",
    "  else:\n",
    "    continue"
   ]
  },
  {
   "cell_type": "markdown",
   "metadata": {
    "colab_type": "text",
    "id": "myyunq8EguT_"
   },
   "source": [
    "# Question 3"
   ]
  },
  {
   "cell_type": "code",
   "execution_count": 7,
   "metadata": {
    "colab": {},
    "colab_type": "code",
    "id": "uqwfUwDzg6Fm"
   },
   "outputs": [
    {
     "name": "stdout",
     "output_type": "stream",
     "text": [
      "Decleration :  {'A': 50, 'B': 80}\n",
      "Update :  {'A': 50, 'B': 80, 'C': 90}\n"
     ]
    }
   ],
   "source": [
    "dic={'A':50,'B':80}\n",
    "print(\"Decleration : \",dic)\n",
    "dic.update({'C':90})\n",
    "print(\"Update : \",dic)"
   ]
  },
  {
   "cell_type": "markdown",
   "metadata": {},
   "source": [
    "# Question 4"
   ]
  },
  {
   "cell_type": "code",
   "execution_count": 9,
   "metadata": {},
   "outputs": [
    {
     "name": "stdout",
     "output_type": "stream",
     "text": [
      "220\n"
     ]
    }
   ],
   "source": [
    "summ=0\n",
    "for x in dic:\n",
    "    summ=summ+dic[x]\n",
    "print(summ)"
   ]
  },
  {
   "cell_type": "markdown",
   "metadata": {},
   "source": [
    "# Question 5"
   ]
  },
  {
   "cell_type": "code",
   "execution_count": 14,
   "metadata": {
    "scrolled": true
   },
   "outputs": [
    {
     "name": "stdout",
     "output_type": "stream",
     "text": [
      "Duplicate Present in the List:\n",
      "Ahmed\n",
      "21\n"
     ]
    }
   ],
   "source": [
    "testList=(\"Wajahat\",\"Ahmed\",\"21\",\"22\",\"Ahmed\",\"Khan\",\"This\",\"is\",\"21\")\n",
    "two_list=[]\n",
    "print(\"Duplicate Present in the List:\")\n",
    "for x in testList:\n",
    "    if not x in two_list:\n",
    "        two_list.append(x)\n",
    "    else:\n",
    "        print(x)"
   ]
  },
  {
   "cell_type": "markdown",
   "metadata": {},
   "source": [
    "# Question 6"
   ]
  },
  {
   "cell_type": "code",
   "execution_count": 23,
   "metadata": {},
   "outputs": [
    {
     "name": "stdout",
     "output_type": "stream",
     "text": [
      "Enter Key which is present in dictonary:A\n",
      "The Key A is Available\n"
     ]
    }
   ],
   "source": [
    "NewDic={\"A\":100,\"B\":600,\"D\":900}\n",
    "value=input(\"Enter Key which is present in dictonary:\")\n",
    "if value in NewDic:\n",
    "    print(\"The Key\",value,\"is Available\")\n",
    "else:\n",
    "    print(\"The Key\",value,\"is Not Available\")"
   ]
  },
  {
   "cell_type": "code",
   "execution_count": null,
   "metadata": {},
   "outputs": [],
   "source": []
  }
 ],
 "metadata": {
  "colab": {
   "name": "assignment# 3.ipynb",
   "provenance": []
  },
  "kernelspec": {
   "display_name": "Python 3",
   "language": "python",
   "name": "python3"
  },
  "language_info": {
   "codemirror_mode": {
    "name": "ipython",
    "version": 3
   },
   "file_extension": ".py",
   "mimetype": "text/x-python",
   "name": "python",
   "nbconvert_exporter": "python",
   "pygments_lexer": "ipython3",
   "version": "3.7.3"
  }
 },
 "nbformat": 4,
 "nbformat_minor": 1
}
