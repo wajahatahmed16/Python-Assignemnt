{
 "cells": [
  {
   "cell_type": "markdown",
   "metadata": {},
   "source": [
    "# Answer No.1"
   ]
  },
  {
   "cell_type": "code",
   "execution_count": 5,
   "metadata": {},
   "outputs": [],
   "source": [
    "person={\"first_name\":\"Kashif\",\"last_name\":\"Ali\",\"age\":23,\"city\":\"Karachi\"}"
   ]
  },
  {
   "cell_type": "code",
   "execution_count": 13,
   "metadata": {},
   "outputs": [
    {
     "name": "stdout",
     "output_type": "stream",
     "text": [
      "first_name : Kashif\n",
      "last_name : Ali\n",
      "age : 23\n",
      "city : Karachi\n"
     ]
    }
   ],
   "source": [
    "for i in person: print(i,\":\",person[i])"
   ]
  },
  {
   "cell_type": "code",
   "execution_count": 18,
   "metadata": {},
   "outputs": [
    {
     "data": {
      "text/plain": [
       "{'first_name': 'Kashif',\n",
       " 'last_name': 'Ali',\n",
       " 'age': 23,\n",
       " 'city': 'Karachi',\n",
       " 'qualification': 'Intermediate'}"
      ]
     },
     "execution_count": 18,
     "metadata": {},
     "output_type": "execute_result"
    }
   ],
   "source": [
    "person.update({\"qualification\":\"Intermediate\"})\n",
    "person"
   ]
  },
  {
   "cell_type": "code",
   "execution_count": 19,
   "metadata": {},
   "outputs": [
    {
     "data": {
      "text/plain": [
       "{'first_name': 'Kashif',\n",
       " 'last_name': 'Ali',\n",
       " 'age': 23,\n",
       " 'city': 'Karachi',\n",
       " 'qualification': 'Higher Education'}"
      ]
     },
     "execution_count": 19,
     "metadata": {},
     "output_type": "execute_result"
    }
   ],
   "source": [
    "person.update({\"qualification\":\"Higher Education\"})\n",
    "person"
   ]
  },
  {
   "cell_type": "code",
   "execution_count": 20,
   "metadata": {},
   "outputs": [],
   "source": [
    "del person[\"qualification\"]"
   ]
  },
  {
   "cell_type": "code",
   "execution_count": 21,
   "metadata": {},
   "outputs": [
    {
     "data": {
      "text/plain": [
       "{'first_name': 'Kashif', 'last_name': 'Ali', 'age': 23, 'city': 'Karachi'}"
      ]
     },
     "execution_count": 21,
     "metadata": {},
     "output_type": "execute_result"
    }
   ],
   "source": [
    "person"
   ]
  },
  {
   "cell_type": "markdown",
   "metadata": {},
   "source": [
    "# Answer No.2"
   ]
  },
  {
   "cell_type": "code",
   "execution_count": 23,
   "metadata": {},
   "outputs": [],
   "source": [
    "cities={\n",
    "    \"Karachi\":{\n",
    "        \"Country\":\"Pakistan\",\n",
    "        \"Population\":\"14.91 million\",\n",
    "        \"Fact\":\"Karachi; is the capital of the Pakistani province of Sindh.\"\n",
    "    },\n",
    "    \"London\":{\n",
    "        \"Country\":\"England\",\n",
    "        \"Population\":\"8.9 million\",\n",
    "        \"Fact\":\"Capital of England\"\n",
    "    },\n",
    "    \"Tokyo\":{\n",
    "        \"Country\":\"Japan\",\n",
    "        \"Population\":\"9.273 million\",\n",
    "        \"Fact\":\"Capital of Japan\"\n",
    "    }\n",
    "\n",
    "}"
   ]
  },
  {
   "cell_type": "code",
   "execution_count": 27,
   "metadata": {},
   "outputs": [
    {
     "name": "stdout",
     "output_type": "stream",
     "text": [
      "Karachi  : \n",
      "\t Country  :  Pakistan\n",
      "\t Population  :  14.91 million\n",
      "\t Fact  :  Karachi; is the capital of the Pakistani province of Sindh.\n",
      "London  : \n",
      "\t Country  :  England\n",
      "\t Population  :  8.9 million\n",
      "\t Fact  :  Capital of England\n",
      "Tokyo  : \n",
      "\t Country  :  Japan\n",
      "\t Population  :  9.273 million\n",
      "\t Fact  :  Capital of Japan\n"
     ]
    }
   ],
   "source": [
    "for i in cities:\n",
    "    print(i,\" : \")\n",
    "    for j in cities[i]:\n",
    "        print(\"\\t\",j,\" : \",cities[i][j])"
   ]
  },
  {
   "cell_type": "markdown",
   "metadata": {},
   "source": [
    "# Answer No.3"
   ]
  },
  {
   "cell_type": "code",
   "execution_count": 1,
   "metadata": {},
   "outputs": [
    {
     "name": "stdout",
     "output_type": "stream",
     "text": [
      "Enter your Age : 5\n",
      "The cost for ticket is $10\n",
      "Enter your Age : 2\n",
      "The tickets are free for children\n",
      "Enter your Age : 15\n",
      "The cost for ticket is $15\n",
      "Enter your Age : 13\n",
      "The cost for ticket is $15\n",
      "Enter your Age : 12\n",
      "The cost for ticket is $10\n",
      "Enter your Age : 0\n",
      "Thank You\n"
     ]
    }
   ],
   "source": [
    "your_Age=-1\n",
    "while your_Age:\n",
    "    your_Age=int(input(\"Enter your Age : \"))\n",
    "    if your_Age==0:\n",
    "        print(\"Thank You\")\n",
    "        break\n",
    "    elif your_Age<3:\n",
    "        print(\"The tickets are free for children\")\n",
    "    elif your_Age>=3 and your_Age<=12:\n",
    "        print(\"The cost for ticket is $10\")\n",
    "    elif your_Age>12:\n",
    "        print(\"The cost for ticket is $15\")    "
   ]
  },
  {
   "cell_type": "markdown",
   "metadata": {},
   "source": [
    "# Answer No.4"
   ]
  },
  {
   "cell_type": "code",
   "execution_count": 29,
   "metadata": {},
   "outputs": [
    {
     "name": "stdout",
     "output_type": "stream",
     "text": [
      "One of my favourite book is lice in Wonderland.\n"
     ]
    }
   ],
   "source": [
    "def favorite_book(title):\n",
    "    return \"One of my favourite book is \"+title\n",
    "\n",
    "print(favorite_book(\"lice in Wonderland.\"))    "
   ]
  },
  {
   "cell_type": "markdown",
   "metadata": {},
   "source": [
    "# Answer No.5"
   ]
  },
  {
   "cell_type": "code",
   "execution_count": 33,
   "metadata": {},
   "outputs": [],
   "source": [
    "import random"
   ]
  },
  {
   "cell_type": "code",
   "execution_count": 46,
   "metadata": {},
   "outputs": [
    {
     "name": "stdout",
     "output_type": "stream",
     "text": [
      "Enter your guess : 3\n",
      "Your Guess is less than hidden Number\n",
      "Enter your guess : 5\n",
      "Your Guess is less than hidden Number\n",
      "Enter your guess : 6\n",
      "Your Guess is less than hidden Number\n",
      "Out of Chances\n"
     ]
    }
   ],
   "source": [
    "rnum=random.randrange(1,30)\n",
    "win=0\n",
    "for x in range(3):\n",
    "    guess=int(input(\"Enter your guess : \"))\n",
    "    if guess==rnum:\n",
    "        print(\"Congradulation You figured out right Number\")\n",
    "        win=1\n",
    "        break\n",
    "    elif guess>rnum:print(\"Your Guess is greater than hidden Number\")\n",
    "    elif guess<rnum:print(\"Your Guess is less than hidden Number\")\n",
    "if win!=1:\n",
    "    print(\"Out of Chances\")        "
   ]
  },
  {
   "cell_type": "markdown",
   "metadata": {},
   "source": []
  }
 ],
 "metadata": {
  "kernelspec": {
   "display_name": "Python 3",
   "language": "python",
   "name": "python3"
  },
  "language_info": {
   "codemirror_mode": {
    "name": "ipython",
    "version": 3
   },
   "file_extension": ".py",
   "mimetype": "text/x-python",
   "name": "python",
   "nbconvert_exporter": "python",
   "pygments_lexer": "ipython3",
   "version": "3.7.3"
  }
 },
 "nbformat": 4,
 "nbformat_minor": 2
}
